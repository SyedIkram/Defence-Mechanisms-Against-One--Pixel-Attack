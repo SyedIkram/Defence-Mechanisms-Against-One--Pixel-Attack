{
 "cells": [
  {
   "cell_type": "code",
   "execution_count": 13,
   "metadata": {},
   "outputs": [],
   "source": [
    "import sys\n",
    "import os\n",
    "import torch\n",
    "import numpy as np\n",
    "import torchvision.datasets as datasets\n",
    "import torchvision.transforms as transforms\n",
    "from models.enhanced_resnet import EnhancedResnet\n",
    "import matplotlib.pyplot as plt\n",
    "from torchvision import models\n",
    "import torch\n",
    "import cv2\n",
    "from scipy.optimize import differential_evolution\n",
    "import torch.nn as nn\n",
    "from torch.autograd import Variable\n",
    "from model import BasicCNN\n",
    "from torchvision.utils import save_image\n",
    "from models.enhanced_resnet import EnhancedResnet\n",
    "from threading import Thread"
   ]
  },
  {
   "cell_type": "code",
   "execution_count": 2,
   "metadata": {},
   "outputs": [
    {
     "data": {
      "text/plain": [
       "DenoisingAutoEncoder(\n",
       "  (encoder1): Sequential(\n",
       "    (0): Conv2d(3, 32, kernel_size=(3, 3), stride=(1, 1), padding=(1, 1))\n",
       "    (1): ReLU()\n",
       "    (2): BatchNorm2d(32, eps=1e-05, momentum=0.1, affine=True, track_running_stats=True)\n",
       "    (3): ReLU()\n",
       "    (4): MaxPool2d(kernel_size=2, stride=2, padding=0, dilation=1, ceil_mode=False)\n",
       "    (5): ZeroPad2d(padding=(8, 8, 8, 8), value=0)\n",
       "    (6): Conv2d(32, 32, kernel_size=(3, 3), stride=(1, 1), padding=(1, 1))\n",
       "    (7): BatchNorm2d(32, eps=1e-05, momentum=0.1, affine=True, track_running_stats=True)\n",
       "    (8): ReLU()\n",
       "    (9): MaxPool2d(kernel_size=2, stride=2, padding=0, dilation=1, ceil_mode=False)\n",
       "    (10): ZeroPad2d(padding=(8, 8, 8, 8), value=0)\n",
       "  )\n",
       "  (encoder2): Sequential(\n",
       "    (0): Conv2d(32, 64, kernel_size=(3, 3), stride=(1, 1), padding=(1, 1))\n",
       "    (1): BatchNorm2d(64, eps=1e-05, momentum=0.1, affine=True, track_running_stats=True)\n",
       "    (2): ReLU()\n",
       "    (3): Conv2d(64, 128, kernel_size=(3, 3), stride=(1, 1), padding=(1, 1))\n",
       "    (4): BatchNorm2d(128, eps=1e-05, momentum=0.1, affine=True, track_running_stats=True)\n",
       "    (5): ReLU()\n",
       "  )\n",
       "  (decoder): Sequential(\n",
       "    (0): ConvTranspose2d(128, 64, kernel_size=(3, 3), stride=(1, 1), padding=(1, 1))\n",
       "    (1): BatchNorm2d(64, eps=1e-05, momentum=0.1, affine=True, track_running_stats=True)\n",
       "    (2): ReLU()\n",
       "    (3): ConvTranspose2d(64, 32, kernel_size=(3, 3), stride=(1, 1), padding=(1, 1))\n",
       "    (4): BatchNorm2d(32, eps=1e-05, momentum=0.1, affine=True, track_running_stats=True)\n",
       "    (5): ReLU()\n",
       "    (6): ConvTranspose2d(32, 3, kernel_size=(3, 3), stride=(1, 1), padding=(1, 1))\n",
       "    (7): BatchNorm2d(3, eps=1e-05, momentum=0.1, affine=True, track_running_stats=True)\n",
       "    (8): Sigmoid()\n",
       "  )\n",
       ")"
      ]
     },
     "execution_count": 2,
     "metadata": {},
     "output_type": "execute_result"
    }
   ],
   "source": [
    "enm = EnhancedResnet()\n",
    "dnl = torch.load('./utils/logs/denoiser.pth')\n",
    "enm.denoised_layer.load_state_dict(dnl['model'])\n",
    "enm.denoised_layer.eval()"
   ]
  },
  {
   "cell_type": "code",
   "execution_count": 3,
   "metadata": {},
   "outputs": [],
   "source": [
    "def plot_figs(imgs):\n",
    "    f = plt.figure(figsize=(8,4))\n",
    "    plt.axis('off')\n",
    "    tot = len(imgs)\n",
    "    i=0\n",
    "    pilTrans = transforms.ToPILImage()\n",
    "    for img in imgs:\n",
    "        i = i+1\n",
    "        f.add_subplot(1,tot, i)\n",
    "        plt.imshow(pilTrans(img))\n",
    "    plt.show()"
   ]
  },
  {
   "cell_type": "code",
   "execution_count": 4,
   "metadata": {},
   "outputs": [],
   "source": [
    "def preprocess(img):\n",
    "    img = img.astype(np.float32)\n",
    "    img /= 255.0\n",
    "    img = img.transpose(2, 0, 1)\n",
    "    return img\n",
    "def softmax(x):\n",
    "    e_x = np.exp(x - np.max(x))\n",
    "    return e_x / e_x.sum()\n",
    "def scale(x, scale=5):\n",
    "    return cv2.resize(x, None, fx=scale, fy=scale, interpolation=cv2.INTER_AREA)"
   ]
  },
  {
   "cell_type": "code",
   "execution_count": 5,
   "metadata": {},
   "outputs": [],
   "source": [
    "def perturb(x):\n",
    "    adv_img = img.copy()\n",
    "    pixs = np.array(np.split(x, len(x)/5)).astype(int)\n",
    "    loc = (pixs[:, 0], pixs[:,1])\n",
    "    val = pixs[:, 2:]\n",
    "    adv_img[loc] = val\n",
    "    return adv_img\n",
    "def optimize(x):\n",
    "    adv_img = perturb(x)\n",
    "    inp = Variable(torch.from_numpy(preprocess(adv_img)).float().unsqueeze(0))\n",
    "    out = model(inp)\n",
    "    prob = softmax(out.data.numpy()[0])\n",
    "    return prob[pred_orig]"
   ]
  },
  {
   "cell_type": "code",
   "execution_count": 6,
   "metadata": {},
   "outputs": [
    {
     "name": "stdout",
     "output_type": "stream",
     "text": [
      "Files already downloaded and verified\n"
     ]
    }
   ],
   "source": [
    "tr = datasets.CIFAR10('./data', train=False, download=True, transform=transforms.ToTensor())\n",
    "pred_adv = 0\n",
    "prob_adv = 0\n",
    "def callback(x, convergence):\n",
    "    global pred_adv, prob_adv\n",
    "    adv_img = perturb(x)\n",
    "    inp = Variable(torch.from_numpy(preprocess(adv_img)).float().unsqueeze(0))\n",
    "    out = model(inp)\n",
    "    prob = softmax(out.data.numpy()[0])\n",
    "    pred_adv = np.argmax(prob)\n",
    "    prob_adv = prob[pred_adv]\n",
    "    if pred_adv != pred_orig and prob_adv >= 0.9:\n",
    "        print('Attack successful..')\n",
    "        print('Prob [%s]: %f' %(cifar10_class_names[pred_adv], prob_adv))\n",
    "        print()\n",
    "        return True\n",
    "    else:\n",
    "        print('Prob [%s]: %f' %(cifar10_class_names[pred_orig], prob[pred_orig]))"
   ]
  },
  {
   "cell_type": "markdown",
   "metadata": {},
   "source": [
    "# Select Image from the Dataset to attack"
   ]
  },
  {
   "cell_type": "code",
   "execution_count": 7,
   "metadata": {},
   "outputs": [],
   "source": [
    "idx = 158\n",
    "fname = \"images/adv_img_\"+str(idx)+\".png\"\n",
    "d = 1\n",
    "iters = 600\n",
    "popsize = 10"
   ]
  },
  {
   "cell_type": "code",
   "execution_count": 8,
   "metadata": {},
   "outputs": [],
   "source": [
    "tnsr,lb = tr.__getitem__(idx)\n",
    "save_image(tnsr,\"images/testing.png\")\n",
    "image_path = \"images/testing.png\" #images/airplane.png(id-438) or car.png adv-3.png adv-37.png adv-158.png 221.png\n",
    "cifar10_class_names = {0: 'airplane', 1: 'automobile', 2: 'bird', 3: 'cat', 4: 'deer', 5: 'dog', 6: 'frog', 7: 'horse', 8: 'ship', 9: 'truck'}"
   ]
  },
  {
   "cell_type": "code",
   "execution_count": 9,
   "metadata": {},
   "outputs": [
    {
     "name": "stdout",
     "output_type": "stream",
     "text": [
      "Prediction of the image before attack: dog\n"
     ]
    }
   ],
   "source": [
    "orig = cv2.imread(image_path)[..., ::-1]\n",
    "orig = cv2.resize(orig, (32, 32))\n",
    "img = orig.copy()\n",
    "shape = orig.shape\n",
    "model = BasicCNN()\n",
    "saved = torch.load(\"saved/cifar10_basiccnn.pth.tar\")\n",
    "model.load_state_dict(saved['state_dict'])\n",
    "model.eval()\n",
    "inp = Variable(torch.from_numpy(preprocess(img)).float().unsqueeze(0))\n",
    "prob_orig = softmax(model(inp).data.numpy()[0])\n",
    "pred_orig = np.argmax(prob_orig)\n",
    "print('Prediction of the image before attack: %s' %(cifar10_class_names[pred_orig]))\n",
    "#print('Probability: %f' %(prob_orig[pred_orig]))"
   ]
  },
  {
   "cell_type": "code",
   "execution_count": null,
   "metadata": {},
   "outputs": [],
   "source": []
  },
  {
   "cell_type": "code",
   "execution_count": 14,
   "metadata": {},
   "outputs": [
    {
     "name": "stdout",
     "output_type": "stream",
     "text": [
      "Prob [dog]: 0.082070\n",
      "Prob [dog]: 0.082070\n",
      "Prob [dog]: 0.082070\n",
      "Prob [dog]: 0.075346\n",
      "Prob [dog]: 0.066374\n",
      "Prob [dog]: 0.053754\n",
      "Prob [dog]: 0.047663\n",
      "Prob [dog]: 0.047663\n",
      "Prob [dog]: 0.033285\n",
      "Prob [dog]: 0.031849\n",
      "Prob [dog]: 0.031849\n",
      "Prob [dog]: 0.031849\n",
      "Prob [dog]: 0.031849\n",
      "Prob [dog]: 0.025812\n",
      "Prob [dog]: 0.025812\n",
      "Prob [dog]: 0.018565\n",
      "Prob [dog]: 0.018565\n",
      "Prob [dog]: 0.018565\n",
      "Prob [dog]: 0.018565\n",
      "Prob [dog]: 0.018565\n",
      "Prob [dog]: 0.018565\n",
      "Prob [dog]: 0.018565\n",
      "Prob [dog]: 0.017799\n",
      "Prob [dog]: 0.016698\n",
      "Prob [dog]: 0.016698\n",
      "Prob [dog]: 0.016698\n",
      "Prob [dog]: 0.016698\n",
      "Prob [dog]: 0.016698\n",
      "Prob [dog]: 0.016698\n",
      "Prob [dog]: 0.016502\n",
      "Prob [dog]: 0.016502\n",
      "Prob [dog]: 0.016502\n",
      "Prob [dog]: 0.016502\n",
      "Prob [dog]: 0.016502\n",
      "Prob [dog]: 0.016502\n",
      "Prob [dog]: 0.016502\n",
      "Prob [dog]: 0.016502\n",
      "Prob [dog]: 0.016502\n",
      "Prob [dog]: 0.016502\n",
      "Prob [dog]: 0.016502\n",
      "Prob [dog]: 0.016502\n",
      "Prob [dog]: 0.016502\n",
      "Prob [dog]: 0.016502\n",
      "Prob [dog]: 0.016433\n",
      "Prob [dog]: 0.016433\n",
      "Prob [dog]: 0.016433\n",
      "Prob [dog]: 0.016433\n",
      "Prob [dog]: 0.016433\n",
      "Prob [dog]: 0.016433\n",
      "Prob [dog]: 0.016433\n",
      "Prob [dog]: 0.016433\n",
      "Prob [dog]: 0.016433\n",
      "Prob [dog]: 0.016433\n",
      "Prob [dog]: 0.016433\n",
      "Prob [dog]: 0.016433\n",
      "Prob [dog]: 0.016433\n",
      "Prob [dog]: 0.016433\n",
      "Prob [dog]: 0.016433\n",
      "Prob [dog]: 0.016433\n"
     ]
    },
    {
     "name": "stderr",
     "output_type": "stream",
     "text": [
      "C:\\Anaconda3\\lib\\site-packages\\scipy\\optimize\\_differentialevolution.py:603: RuntimeWarning: divide by zero encountered in double_scalars\n",
      "  convergence=self.tol / convergence) is True):\n"
     ]
    },
    {
     "name": "stdout",
     "output_type": "stream",
     "text": [
      "Prob [dog]: 0.016433\n",
      "Prob [dog]: 0.339580 --> Prob[frog]: 0.816649\n"
     ]
    }
   ],
   "source": [
    "bounds = [(0, shape[0]-1), (0, shape[1]), (0, 255), (0, 255), (0, 255)] * d\n",
    "result = differential_evolution(optimize, bounds, maxiter=iters, popsize=popsize, tol=1e-5, callback=callback)\n",
    "adv_img = perturb(result.x)\n",
    "inp = Variable(torch.from_numpy(preprocess(adv_img)).float().unsqueeze(0))\n",
    "out = model(inp)\n",
    "prob = softmax(out.data.numpy()[0])\n",
    "print('Prob [%s]: %f --> Prob[%s]: %f' %(cifar10_class_names[pred_orig], prob_orig[pred_orig], cifar10_class_names[pred_adv], prob_adv))"
   ]
  },
  {
   "cell_type": "code",
   "execution_count": null,
   "metadata": {},
   "outputs": [],
   "source": [
    "cv2.imwrite(fname, adv_img[..., ::-1]) #images/adv_img_airplane.png\n",
    "cv2.imshow('adversarial image', scale(adv_img[..., ::-1]))\n",
    "while True:\n",
    "    key = cv2.waitKey(33)\n",
    "    if key == 27 or key == 32:\n",
    "        cv2.destroyAllWindows()\n",
    "        break"
   ]
  },
  {
   "cell_type": "markdown",
   "metadata": {},
   "source": [
    "Adding autoencoding layers to the model"
   ]
  },
  {
   "cell_type": "code",
   "execution_count": 16,
   "metadata": {},
   "outputs": [
    {
     "name": "stdout",
     "output_type": "stream",
     "text": [
      "Denoised Image:\n"
     ]
    },
    {
     "name": "stderr",
     "output_type": "stream",
     "text": [
      "C:\\Anaconda3\\lib\\site-packages\\matplotlib\\cbook\\deprecation.py:107: MatplotlibDeprecationWarning: Adding an axes using the same arguments as a previous axes currently reuses the earlier instance.  In a future version, a new instance will always be created and returned.  Meanwhile, this warning can be suppressed, and the future behavior ensured, by passing a unique label to each axes instance.\n",
      "  warnings.warn(message, mplDeprecation, stacklevel=1)\n"
     ]
    },
    {
     "data": {
      "image/png": "[encoded data removed]",
      "text/plain": [
       "<Figure size 576x288 with 1 Axes>"
      ]
     },
     "metadata": {},
     "output_type": "display_data"
    }
   ],
   "source": [
    "orig = cv2.imread(fname)[..., ::-1] #images/adv_img_airplane.png or cat.png\n",
    "orig = preprocess(orig)\n",
    "inp = Variable(torch.from_numpy(orig)).float().unsqueeze(0)\n",
    "out = enm.denoised_layer(inp)\n",
    "z = torch.reshape(out,(3,32,32))\n",
    "print(\"Denoised Image:\")\n",
    "plot_figs([z])"
   ]
  },
  {
   "cell_type": "code",
   "execution_count": 17,
   "metadata": {},
   "outputs": [],
   "source": [
    "inp = Variable(z).float().unsqueeze(0)\n",
    "out = model(inp)\n",
    "prob = softmax(out.data.numpy()[0])"
   ]
  },
  {
   "cell_type": "code",
   "execution_count": 18,
   "metadata": {},
   "outputs": [
    {
     "name": "stdout",
     "output_type": "stream",
     "text": [
      "Prediction of the image before attack: dog\n",
      "With denoised layers, image is predicted as dog\n"
     ]
    }
   ],
   "source": [
    "n = cifar10_class_names[np.argmax(prob)]\n",
    "#v = np.amax(prob)\n",
    "print('Prediction of the image before attack: %s' %(cifar10_class_names[pred_orig]))\n",
    "#print('Probability: %f' %(prob_orig[pred_orig]))\n",
    "#if n==cifar10_class_names[pred_orig]:\n",
    "print('With denoised layers, image is predicted as %s'%(n))\n",
    "#else:\n",
    "#    v = prob[pred_orig]\n",
    "#    print('Confidence in original class is restored to: %f'%(v))"
   ]
  },
  {
   "cell_type": "code",
   "execution_count": 14,
   "metadata": {},
   "outputs": [],
   "source": [
    "class VideoStream:\n",
    "    def __init__(self, src=0):\n",
    "        self.stream = cv2.VideoCapture(src)\n",
    "        self.stream.open('http://192.168.1.75:4747/video')\n",
    "        (self.grabbed, self.frame) = self.stream.read()\n",
    "        self.stopped = False\n",
    "\n",
    "    def start(self):\n",
    "        Thread(target=self.update, args=()).start()\n",
    "        return self\n",
    "\n",
    "    def update(self):\n",
    "        while True:\n",
    "            if self.stopped:\n",
    "                return\n",
    "            (self.grabbed, self.frame) = self.stream.read()\n",
    "\n",
    "    def read(self):\n",
    "        # Return the latest frame\n",
    "        return self.frame\n",
    "\n",
    "    def stop(self):\n",
    "        self.stopped = True"
   ]
  },
  {
   "cell_type": "code",
   "execution_count": 17,
   "metadata": {},
   "outputs": [],
   "source": [
    "frame_count = 0\n",
    "score = 0\n",
    "pred = 0\n",
    "last = 0\n",
    "human_string = None\n",
    "vs = VideoStream(src=1).start()"
   ]
  },
  {
   "cell_type": "code",
   "execution_count": 18,
   "metadata": {},
   "outputs": [
    {
     "name": "stdout",
     "output_type": "stream",
     "text": [
      "Done\n"
     ]
    }
   ],
   "source": [
    "n = \"NONE\"\n",
    "while True:\n",
    "    frame = vs.read()\n",
    "    frame_count += 1\n",
    "    cv2.putText(frame, \"*\", (160, 110),cv2.FONT_HERSHEY_TRIPLEX, 1, (255, 255, 255))\n",
    "    cv2.putText(frame, \"*\", (160, 410),cv2.FONT_HERSHEY_TRIPLEX, 1, (255, 255, 255))\n",
    "    cv2.putText(frame, \"*\", (460, 110),cv2.FONT_HERSHEY_TRIPLEX, 1, (255, 255, 255))\n",
    "    cv2.putText(frame, \"*\", (460, 410),cv2.FONT_HERSHEY_TRIPLEX, 1, (255, 255, 255))\n",
    "    #frame = frame[40:160,40:160] #y1y2x1x2\n",
    "    if frame_count % 15 == 0:\n",
    "        img = frame[110:410,160:460] #y1y2x1x2\n",
    "        img = img[..., ::-1]\n",
    "        img = cv2.resize(img, (32, 32))\n",
    "        inp = Variable(torch.from_numpy(preprocess(img))).float().unsqueeze(0)\n",
    "        out = enm.denoised_layer(inp)\n",
    "        z = torch.reshape(out,(3,32,32))\n",
    "        inp = Variable(z).float().unsqueeze(0)\n",
    "        out = model(inp)\n",
    "        prob = softmax(out.data.numpy()[0])\n",
    "        n = cifar10_class_names[np.argmax(prob)]\n",
    "\n",
    "    cv2.putText(frame, n, (280, 400),cv2.FONT_HERSHEY_TRIPLEX, 1, (255, 255, 255))\n",
    "    cv2.imshow(\"Frame\", frame)\n",
    "    if cv2.waitKey(1) & 0xFF == ord(\"q\"):\n",
    "        cv2.destroyAllWindows()\n",
    "        break\n",
    "\n",
    "   \n",
    "vs.stop()   \n",
    "print(\"Done\")"
   ]
  },
  {
   "cell_type": "code",
   "execution_count": null,
   "metadata": {},
   "outputs": [],
   "source": []
  },
  {
   "cell_type": "code",
   "execution_count": null,
   "metadata": {},
   "outputs": [],
   "source": []
  },
  {
   "cell_type": "code",
   "execution_count": null,
   "metadata": {},
   "outputs": [],
   "source": []
  },
  {
   "cell_type": "code",
   "execution_count": null,
   "metadata": {},
   "outputs": [],
   "source": []
  },
  {
   "cell_type": "code",
   "execution_count": null,
   "metadata": {},
   "outputs": [],
   "source": []
  },
  {
   "cell_type": "code",
   "execution_count": null,
   "metadata": {},
   "outputs": [],
   "source": []
  },
  {
   "cell_type": "code",
   "execution_count": null,
   "metadata": {},
   "outputs": [],
   "source": []
  },
  {
   "cell_type": "code",
   "execution_count": null,
   "metadata": {},
   "outputs": [],
   "source": []
  },
  {
   "cell_type": "code",
   "execution_count": null,
   "metadata": {},
   "outputs": [],
   "source": []
  },
  {
   "cell_type": "code",
   "execution_count": 317,
   "metadata": {},
   "outputs": [
    {
     "name": "stdout",
     "output_type": "stream",
     "text": [
      "Prediction before attack: airplane\n",
      "Probability: 0.544428\n",
      "With denoised layers, image is predicted as airplane with confidence 0.563950\n"
     ]
    }
   ],
   "source": [
    "n = cifar10_class_names[np.argmax(prob)]\n",
    "v = np.amax(prob)\n",
    "print('Prediction before attack: %s' %(cifar10_class_names[pred_orig]))\n",
    "print('Probability: %f' %(prob_orig[pred_orig]))\n",
    "if n==cifar10_class_names[pred_orig]:\n",
    "    print('With denoised layers, image is predicted as %s with confidence %f'%(n,v))\n",
    "else:\n",
    "    v = prob[pred_orig]\n",
    "    print('Confidence in original class is restored to: %f'%(v))"
   ]
  },
  {
   "cell_type": "code",
   "execution_count": 283,
   "metadata": {},
   "outputs": [
    {
     "data": {
      "text/plain": [
       "'airplane'"
      ]
     },
     "execution_count": 283,
     "metadata": {},
     "output_type": "execute_result"
    }
   ],
   "source": [
    "n"
   ]
  },
  {
   "cell_type": "code",
   "execution_count": 284,
   "metadata": {},
   "outputs": [
    {
     "data": {
      "text/plain": [
       "0.36087736"
      ]
     },
     "execution_count": 284,
     "metadata": {},
     "output_type": "execute_result"
    }
   ],
   "source": [
    "v"
   ]
  },
  {
   "cell_type": "code",
   "execution_count": null,
   "metadata": {},
   "outputs": [],
   "source": []
  },
  {
   "cell_type": "code",
   "execution_count": null,
   "metadata": {},
   "outputs": [],
   "source": []
  },
  {
   "cell_type": "code",
   "execution_count": null,
   "metadata": {},
   "outputs": [],
   "source": []
  },
  {
   "cell_type": "code",
   "execution_count": null,
   "metadata": {},
   "outputs": [],
   "source": []
  },
  {
   "cell_type": "code",
   "execution_count": null,
   "metadata": {},
   "outputs": [],
   "source": []
  }
 ],
 "metadata": {
  "kernelspec": {
   "display_name": "Python 3",
   "language": "python",
   "name": "python3"
  },
  "language_info": {
   "codemirror_mode": {
    "name": "ipython",
    "version": 3
   },
   "file_extension": ".py",
   "mimetype": "text/x-python",
   "name": "python",
   "nbconvert_exporter": "python",
   "pygments_lexer": "ipython3",
   "version": "3.6.5"
  }
 },
 "nbformat": 4,
 "nbformat_minor": 2
}

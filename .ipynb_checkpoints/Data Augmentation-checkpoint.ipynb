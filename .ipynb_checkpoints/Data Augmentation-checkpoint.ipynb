{
 "cells": [
  {
   "cell_type": "code",
   "execution_count": 1,
   "metadata": {},
   "outputs": [],
   "source": [
    "import sys\n",
    "import os\n",
    "import torch\n",
    "import numpy as np\n",
    "import torchvision.datasets as datasets\n",
    "import torchvision.transforms as transforms\n",
    "from models.enhanced_resnet import EnhancedResnet\n",
    "import matplotlib.pyplot as plt\n",
    "from torchvision import models\n",
    "import torch\n",
    "import cv2\n",
    "from scipy.optimize import differential_evolution\n",
    "import torch.nn as nn\n",
    "from torch.autograd import Variable\n",
    "from model import BasicCNN\n",
    "from torchvision.utils import save_image\n",
    "from PIL import Image\n",
    "import random\n",
    "from threading import Thread"
   ]
  },
  {
   "cell_type": "code",
   "execution_count": 2,
   "metadata": {},
   "outputs": [],
   "source": [
    "def plot_figs(imgs):\n",
    "    f = plt.figure(figsize=(8,4))\n",
    "    plt.axis('off')\n",
    "    tot = len(imgs)\n",
    "    i=0\n",
    "    pilTrans = transforms.ToPILImage()\n",
    "    for img in imgs:\n",
    "        i = i+1\n",
    "        f.add_subplot(1,tot, i)\n",
    "        plt.imshow(pilTrans(img))\n",
    "    plt.show()\n",
    "def preprocess(img):\n",
    "    img = img.astype(np.float32)\n",
    "    img /= 255.0\n",
    "    img = img.transpose(2, 0, 1)\n",
    "    return img\n",
    "def softmax(x):\n",
    "    e_x = np.exp(x - np.max(x))\n",
    "    return e_x / e_x.sum()\n",
    "def scale(x, scale=5):\n",
    "    return cv2.resize(x, None, fx=scale, fy=scale, interpolation=cv2.INTER_AREA)\n",
    "def perturb(x):\n",
    "    adv_img = img.copy()\n",
    "    pixs = np.array(np.split(x, len(x)/5)).astype(int)\n",
    "    loc = (pixs[:, 0], pixs[:,1])\n",
    "    val = pixs[:, 2:]\n",
    "    adv_img[loc] = val\n",
    "    return adv_img\n",
    "def optimize(x):\n",
    "    adv_img = perturb(x)\n",
    "    inp = Variable(torch.from_numpy(preprocess(adv_img)).float().unsqueeze(0))\n",
    "    out = model(inp)\n",
    "    prob = softmax(out.data.numpy()[0])\n",
    "    return prob[pred_orig]"
   ]
  },
  {
   "cell_type": "code",
   "execution_count": 3,
   "metadata": {},
   "outputs": [
    {
     "name": "stdout",
     "output_type": "stream",
     "text": [
      "Files already downloaded and verified\n"
     ]
    }
   ],
   "source": [
    "tr = datasets.CIFAR10('./data', train=False, download=True, transform=transforms.ToTensor())\n",
    "pred_adv = 0\n",
    "prob_adv = 0\n",
    "def callback(x, convergence):\n",
    "    global pred_adv, prob_adv\n",
    "    adv_img = perturb(x)\n",
    "    inp = Variable(torch.from_numpy(preprocess(adv_img)).float().unsqueeze(0))\n",
    "    out = model(inp)\n",
    "    prob = softmax(out.data.numpy()[0])\n",
    "    pred_adv = np.argmax(prob)\n",
    "    prob_adv = prob[pred_adv]\n",
    "    if pred_adv != pred_orig and prob_adv >= 0.9:\n",
    "        print('Attack successful..')\n",
    "        print('Prob [%s]: %f' %(cifar10_class_names[pred_adv], prob_adv))\n",
    "        print()\n",
    "        return True\n",
    "    else:\n",
    "        print('Prob [%s]: %f' %(cifar10_class_names[pred_orig], prob[pred_orig]))"
   ]
  },
  {
   "cell_type": "code",
   "execution_count": 22,
   "metadata": {},
   "outputs": [],
   "source": [
    "idx = 667\n",
    "fname = \"images/adv_img_\"+str(idx)+\".png\"\n",
    "d = 1\n",
    "iters = 600\n",
    "popsize = 10"
   ]
  },
  {
   "cell_type": "code",
   "execution_count": 23,
   "metadata": {},
   "outputs": [],
   "source": [
    "tnsr,lb = tr.__getitem__(idx)\n",
    "save_image(tnsr,\"images/testing.png\")\n",
    "image_path = \"images/testing.png\" #images/airplane.png or car.png adv-3.png adv-37.png adv-158.png 221.png\n",
    "cifar10_class_names = {0: 'airplane', 1: 'automobile', 2: 'bird', 3: 'cat', 4: 'deer', 5: 'dog', 6: 'frog', 7: 'horse', 8: 'ship', 9: 'truck'}"
   ]
  },
  {
   "cell_type": "code",
   "execution_count": 24,
   "metadata": {},
   "outputs": [
    {
     "name": "stdout",
     "output_type": "stream",
     "text": [
      "Prediction before attack: airplane\n",
      "Probability: 0.997410\n"
     ]
    }
   ],
   "source": [
    "orig = cv2.imread(image_path)[..., ::-1]\n",
    "orig = cv2.resize(orig, (32, 32))\n",
    "img = orig.copy()\n",
    "shape = orig.shape\n",
    "model = BasicCNN()\n",
    "saved = torch.load(\"saved/cifar10_basiccnn.pth.tar\")\n",
    "model.load_state_dict(saved['state_dict'])\n",
    "model.eval()\n",
    "inp = Variable(torch.from_numpy(preprocess(img)).float().unsqueeze(0))\n",
    "prob_orig = softmax(model(inp).data.numpy()[0])\n",
    "pred_orig = np.argmax(prob_orig)\n",
    "print('Prediction before attack: %s' %(cifar10_class_names[pred_orig]))\n",
    "print('Probability: %f' %(prob_orig[pred_orig]))"
   ]
  },
  {
   "cell_type": "code",
   "execution_count": null,
   "metadata": {},
   "outputs": [],
   "source": []
  },
  {
   "cell_type": "code",
   "execution_count": null,
   "metadata": {},
   "outputs": [],
   "source": []
  },
  {
   "cell_type": "code",
   "execution_count": null,
   "metadata": {},
   "outputs": [],
   "source": []
  },
  {
   "cell_type": "code",
   "execution_count": 13,
   "metadata": {},
   "outputs": [],
   "source": [
    "def predictimg(img):\n",
    "    tnsr = transforms.ToTensor()\n",
    "    i = random.randint(1,3)\n",
    "    if i==1:\n",
    "        print(\"Vertical transformation applied.\")\n",
    "        img = transforms.functional.vflip(img)\n",
    "    elif i==2:\n",
    "        print(\"Horizontal flip applied.\")\n",
    "        img = transforms.functional.hflip(img)\n",
    "    else:\n",
    "        ang = {1:30,2:45,3:60,4:120,5:135,6:225}\n",
    "        j = random.randint(1,6)\n",
    "        print(\"Imgae rotation with %d degrees applied.\"%(ang[j]))\n",
    "        img = transforms.functional.rotate(img,angle=ang[j]) \n",
    "    t = tnsr(img)\n",
    "    inp = Variable(t).float().unsqueeze(0)\n",
    "    out = model(inp)\n",
    "    prob = softmax(out.data.numpy()[0])\n",
    "    n = cifar10_class_names[np.argmax(prob)]\n",
    "    v = np.amax(prob)\n",
    "    print('Prediction of the image after attack: %s' %(n))\n",
    "    print('Confidence: %f' %(v))\n",
    "    return n,t"
   ]
  },
  {
   "cell_type": "code",
   "execution_count": 8,
   "metadata": {},
   "outputs": [],
   "source": [
    "def predictimglive(img):\n",
    "    #tnsr = transforms.ToTensor()\n",
    "    i = random.randint(1,3)\n",
    "    if i==1:\n",
    "        print(\"Vertical Applied:\")\n",
    "        img = transforms.functional.vflip(img)\n",
    "    elif i==2:\n",
    "        print(\"Horizontal flip applied:\")\n",
    "        img = transforms.functional.hflip(img)\n",
    "    else:\n",
    "        ang = {1:30,2:45,3:60,4:120,5:135,6:225}\n",
    "        j = random.randint(1,6)\n",
    "        print(\"Imgae rotation with %d degrees applied:\"%(ang[j]))\n",
    "        img = transforms.functional.rotate(img,angle=ang[j]) \n",
    "    #t = tnsr(img)\n",
    "    inp = Variable(img).float().unsqueeze(0)\n",
    "    out = model(inp)\n",
    "    prob = softmax(out.data.numpy()[0])\n",
    "    n = cifar10_class_names[np.argmax(prob)]\n",
    "    #v = np.amax(prob)\n",
    "    #print('Prediction of the image after attack: %s' %(n))\n",
    "    #print('Confidence: %f' %(v))\n",
    "    return n"
   ]
  },
  {
   "cell_type": "code",
   "execution_count": 25,
   "metadata": {},
   "outputs": [
    {
     "name": "stdout",
     "output_type": "stream",
     "text": [
      "Prob [airplane]: 0.990263\n",
      "Prob [airplane]: 0.990263\n",
      "Prob [airplane]: 0.990263\n",
      "Prob [airplane]: 0.990263\n",
      "Prob [airplane]: 0.990263\n",
      "Prob [airplane]: 0.990263\n",
      "Prob [airplane]: 0.990263\n",
      "Prob [airplane]: 0.990263\n",
      "Prob [airplane]: 0.990125\n",
      "Prob [airplane]: 0.983787\n",
      "Prob [airplane]: 0.983787\n",
      "Prob [airplane]: 0.983787\n",
      "Prob [airplane]: 0.983787\n",
      "Prob [airplane]: 0.983787\n",
      "Prob [airplane]: 0.983787\n",
      "Prob [airplane]: 0.983787\n",
      "Prob [airplane]: 0.983787\n",
      "Prob [airplane]: 0.979997\n",
      "Prob [airplane]: 0.979997\n",
      "Prob [airplane]: 0.979997\n",
      "Prob [airplane]: 0.979705\n",
      "Prob [airplane]: 0.979705\n",
      "Prob [airplane]: 0.979705\n",
      "Prob [airplane]: 0.979705\n",
      "Prob [airplane]: 0.979705\n",
      "Prob [airplane]: 0.978727\n",
      "Prob [airplane]: 0.978727\n",
      "Prob [airplane]: 0.976638\n",
      "Prob [airplane]: 0.976566\n",
      "Prob [airplane]: 0.976566\n",
      "Prob [airplane]: 0.974624\n",
      "Prob [airplane]: 0.974624\n",
      "Prob [airplane]: 0.974549\n",
      "Prob [airplane]: 0.974171\n",
      "Prob [airplane]: 0.974171\n",
      "Prob [airplane]: 0.974171\n",
      "Prob [airplane]: 0.974171\n",
      "Prob [airplane]: 0.973884\n",
      "Prob [airplane]: 0.973884\n",
      "Prob [airplane]: 0.973884\n",
      "Prob [airplane]: 0.973884\n",
      "Prob [airplane]: 0.973884\n",
      "Prob [airplane]: 0.973884\n",
      "Prob [airplane]: 0.973884\n",
      "Prob [airplane]: 0.973884\n",
      "Prob [airplane]: 0.973884\n",
      "Prob [airplane]: 0.973884\n",
      "Prob [airplane]: 0.973884\n",
      "Prob [airplane]: 0.973882\n",
      "Prob [airplane]: 0.973882\n",
      "Prob [airplane]: 0.973882\n",
      "Prob [airplane]: 0.973882\n",
      "Prob [airplane]: 0.973882\n",
      "Prob [airplane]: 0.973882\n",
      "Prob [airplane]: 0.973882\n",
      "Prob [airplane]: 0.973882\n",
      "Prob [airplane]: 0.973882\n",
      "Prob [airplane]: 0.973876\n",
      "Prob [airplane]: 0.973876\n",
      "Prob [airplane]: 0.973876\n",
      "Prob [airplane]: 0.973876\n",
      "Prob [airplane]: 0.973876\n",
      "Prob [airplane]: 0.973876\n",
      "Prob [airplane]: 0.973876\n",
      "Prob [airplane]: 0.973876\n",
      "Prob [airplane]: 0.973876\n",
      "Prob [airplane]: 0.997410 --> Prob[airplane]: 0.973876\n"
     ]
    }
   ],
   "source": [
    "bounds = [(0, shape[0]-1), (0, shape[1]), (0, 255), (0, 255), (0, 255)] * d\n",
    "result = differential_evolution(optimize, bounds, maxiter=iters, popsize=popsize, tol=1e-5, callback=callback)\n",
    "adv_img = perturb(result.x)\n",
    "inp = Variable(torch.from_numpy(preprocess(adv_img)).float().unsqueeze(0))\n",
    "out = model(inp)\n",
    "prob = softmax(out.data.numpy()[0])\n",
    "print('Prob [%s]: %f --> Prob[%s]: %f' %(cifar10_class_names[pred_orig], prob_orig[pred_orig], cifar10_class_names[pred_adv], prob_adv))"
   ]
  },
  {
   "cell_type": "code",
   "execution_count": 26,
   "metadata": {},
   "outputs": [],
   "source": [
    "cv2.imwrite(fname, adv_img[..., ::-1]) #images/adv_img_airplane.png\n",
    "cv2.imshow('adversarial image', scale(adv_img[..., ::-1]))\n",
    "while True:\n",
    "    key = cv2.waitKey(33)\n",
    "    if key == 27 or key == 32:\n",
    "        cv2.destroyAllWindows()\n",
    "        break"
   ]
  },
  {
   "cell_type": "code",
   "execution_count": 27,
   "metadata": {},
   "outputs": [
    {
     "name": "stdout",
     "output_type": "stream",
     "text": [
      "Prediction of adevrserial image with random data augmentation:\n",
      "Prediction before attack: airplane\n",
      "Probability: 0.997410\n",
      "Vertical transformation applied.\n",
      "Prediction of the image after attack: airplane\n",
      "Confidence: 0.999116\n"
     ]
    }
   ],
   "source": [
    "print(\"Prediction of adevrserial image with random data augmentation:\")\n",
    "print('Prediction before attack: %s' %(cifar10_class_names[pred_orig]))\n",
    "print('Probability: %f' %(prob_orig[pred_orig]))\n",
    "im = Image.open(fname)\n",
    "n,t= predictimg(im)"
   ]
  },
  {
   "cell_type": "code",
   "execution_count": 28,
   "metadata": {},
   "outputs": [
    {
     "name": "stderr",
     "output_type": "stream",
     "text": [
      "C:\\Anaconda3\\lib\\site-packages\\matplotlib\\cbook\\deprecation.py:107: MatplotlibDeprecationWarning: Adding an axes using the same arguments as a previous axes currently reuses the earlier instance.  In a future version, a new instance will always be created and returned.  Meanwhile, this warning can be suppressed, and the future behavior ensured, by passing a unique label to each axes instance.\n",
      "  warnings.warn(message, mplDeprecation, stacklevel=1)\n"
     ]
    },
    {
     "data": {
      "image/png": "[encoded data removed]",
      "text/plain": [
       "<Figure size 576x288 with 1 Axes>"
      ]
     },
     "metadata": {},
     "output_type": "display_data"
    }
   ],
   "source": [
    "plot_figs([t])"
   ]
  },
  {
   "cell_type": "code",
   "execution_count": 9,
   "metadata": {},
   "outputs": [],
   "source": [
    "class VideoStream:\n",
    "    def __init__(self, src=0):\n",
    "        self.stream = cv2.VideoCapture(src)\n",
    "        self.stream.open('http://192.75.244.23:4747/video')\n",
    "        (self.grabbed, self.frame) = self.stream.read()\n",
    "        self.stopped = False\n",
    "\n",
    "    def start(self):\n",
    "        Thread(target=self.update, args=()).start()\n",
    "        return self\n",
    "\n",
    "    def update(self):\n",
    "        while True:\n",
    "            if self.stopped:\n",
    "                return\n",
    "            (self.grabbed, self.frame) = self.stream.read()\n",
    "\n",
    "    def read(self):\n",
    "        # Return the latest frame\n",
    "        return self.frame\n",
    "\n",
    "    def stop(self):\n",
    "        self.stopped = True"
   ]
  },
  {
   "cell_type": "code",
   "execution_count": 10,
   "metadata": {},
   "outputs": [],
   "source": [
    "frame_count = 0\n",
    "score = 0\n",
    "pred = 0\n",
    "last = 0\n",
    "human_string = None\n",
    "vs = VideoStream(src=1).start()"
   ]
  },
  {
   "cell_type": "markdown",
   "metadata": {},
   "source": [
    "# Model"
   ]
  },
  {
   "cell_type": "code",
   "execution_count": null,
   "metadata": {},
   "outputs": [],
   "source": [
    "n = \"NONE\"\n",
    "l=0\n",
    "while True:\n",
    "    frame = vs.read()\n",
    "    frame_count += 1\n",
    "    cv2.putText(frame, \"*\", (160, 110),cv2.FONT_HERSHEY_TRIPLEX, 1, (255, 255, 255))\n",
    "    cv2.putText(frame, \"*\", (160, 410),cv2.FONT_HERSHEY_TRIPLEX, 1, (255, 255, 255))\n",
    "    cv2.putText(frame, \"*\", (460, 110),cv2.FONT_HERSHEY_TRIPLEX, 1, (255, 255, 255))\n",
    "    cv2.putText(frame, \"*\", (460, 410),cv2.FONT_HERSHEY_TRIPLEX, 1, (255, 255, 255))\n",
    "    #frame = frame[40:160,40:160] #y1y2x1x2\n",
    "    if frame_count % 15 == 0:\n",
    "        img = frame[110:410,160:460] #y1y2x1x2\n",
    "        img = img[..., ::-1]\n",
    "        img = cv2.resize(img, (32, 32))\n",
    "        inp = Variable(torch.from_numpy(preprocess(img)).float().unsqueeze(0)) #\n",
    "        out = model(inp) #\n",
    "        prob = softmax(out.data.numpy()[0])\n",
    "        n = cifar10_class_names[np.argmax(prob)]\n",
    "        #l = int(len(n)/2)\n",
    "                           \n",
    "    cv2.putText(frame, n, (280, 430),cv2.FONT_HERSHEY_TRIPLEX, 1, (255, 255, 255))\n",
    "    cv2.imshow(\"Frame\", frame)\n",
    "    if cv2.waitKey(1) & 0xFF == ord(\"q\"):\n",
    "        cv2.destroyAllWindows()\n",
    "        break\n",
    "\n",
    "vs.stop()   \n",
    "print(\"Done\")"
   ]
  },
  {
   "cell_type": "markdown",
   "metadata": {},
   "source": [
    "# Model with Data Augmentation"
   ]
  },
  {
   "cell_type": "code",
   "execution_count": 11,
   "metadata": {},
   "outputs": [],
   "source": [
    "n = \"NONE\"\n",
    "pilTrans = transforms.ToPILImage()\n",
    "tnsr = transforms.ToTensor()\n",
    "while True:\n",
    "    frame = vs.read()\n",
    "    frame_count +=1\n",
    "    cv2.putText(frame, \"*\", (160, 110),cv2.FONT_HERSHEY_TRIPLEX, 1, (255, 255, 255))\n",
    "    cv2.putText(frame, \"*\", (160, 410),cv2.FONT_HERSHEY_TRIPLEX, 1, (255, 255, 255))\n",
    "    cv2.putText(frame, \"*\", (460, 110),cv2.FONT_HERSHEY_TRIPLEX, 1, (255, 255, 255))\n",
    "    cv2.putText(frame, \"*\", (460, 410),cv2.FONT_HERSHEY_TRIPLEX, 1, (255, 255, 255))\n",
    "    if frame_count % 200 == 0:\n",
    "        img = frame[110:410,160:460]\n",
    "        img = img[..., ::-1]\n",
    "        img = cv2.resize(img,(32,32))\n",
    "        im = pilTrans(torch.from_numpy(preprocess(img)))\n",
    "        im = transforms.functional.hflip(im)\n",
    "        inp = Variable(tnsr(im)).float().unsqueeze(0)\n",
    "        out = model(inp)\n",
    "        prob = softmax(out.data.numpy()[0])\n",
    "        n = cifar10_class_names[np.argmax(prob)]\n",
    "    cv2.putText(frame, n, (280, 430),cv2.FONT_HERSHEY_TRIPLEX, 1, (255, 255, 255))\n",
    "    cv2.imshow(\"Frame\", frame)\n",
    "    if cv2.waitKey(1) & 0xFF == ord(\"q\"):\n",
    "        cv2.destroyAllWindows()\n",
    "        break\n",
    "vs.stop()\n",
    "\n"
   ]
  },
  {
   "cell_type": "code",
   "execution_count": 21,
   "metadata": {},
   "outputs": [],
   "source": [
    "vs.stop()"
   ]
  },
  {
   "cell_type": "code",
   "execution_count": 10,
   "metadata": {},
   "outputs": [
    {
     "data": {
      "text/plain": [
       "2"
      ]
     },
     "execution_count": 10,
     "metadata": {},
     "output_type": "execute_result"
    }
   ],
   "source": [
    "int(4/2)"
   ]
  },
  {
   "cell_type": "code",
   "execution_count": null,
   "metadata": {},
   "outputs": [],
   "source": []
  }
 ],
 "metadata": {
  "kernelspec": {
   "display_name": "Python 3",
   "language": "python",
   "name": "python3"
  },
  "language_info": {
   "codemirror_mode": {
    "name": "ipython",
    "version": 3
   },
   "file_extension": ".py",
   "mimetype": "text/x-python",
   "name": "python",
   "nbconvert_exporter": "python",
   "pygments_lexer": "ipython3",
   "version": "3.6.5"
  }
 },
 "nbformat": 4,
 "nbformat_minor": 2
}
